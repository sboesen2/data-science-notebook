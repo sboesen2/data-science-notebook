{
 "cells": [
  {
   "cell_type": "markdown",
   "id": "78990661",
   "metadata": {},
   "source": [
    "#Data Science Tools and Ecosystem"
   ]
  },
  {
   "cell_type": "markdown",
   "id": "f718ea33",
   "metadata": {},
   "source": [
    "# Data Science Tools and Ecosystem\n"
   ]
  },
  {
   "cell_type": "markdown",
   "id": "5d2c2c67",
   "metadata": {},
   "source": [
    "##### In this notebook, Data Science Tools and Ecosystem are summarized"
   ]
  },
  {
   "cell_type": "markdown",
   "id": "9dc2d1c0",
   "metadata": {},
   "source": [
    "### Objectives:\n",
    "\n",
    "- Lisitng popular langueages\n",
    "- Lisitng common libraries\n",
    "- Writing arithmetic expression\n",
    "- Creating tables"
   ]
  },
  {
   "cell_type": "markdown",
   "id": "848a58bc",
   "metadata": {},
   "source": [
    "### Some of the popular languages in data science are:\n",
    "\n",
    "1. Python\n",
    "\n",
    "2. Javascript\n",
    "\n",
    "3. Java\n",
    "\n",
    "4. C\n",
    "\n",
    "5. Not getting a girlfriend\n"
   ]
  },
  {
   "cell_type": "markdown",
   "id": "9b852418",
   "metadata": {},
   "source": [
    "## Some of the commonly used libraries used by Data Scientists include:\n",
    "\n",
    "1. Sci-kit learn\n",
    "2. numpy\n",
    "3. pandas\n",
    "4. tensorflow\n",
    "\n"
   ]
  },
  {
   "cell_type": "markdown",
   "id": "838eaa12",
   "metadata": {},
   "source": [
    "|Data Science Tools (Open Source)         |\n",
    "|----------------------------|\n",
    "| Jupyter Lite          |\n",
    "| RStudio                     |\n",
    "| VS Code |\n"
   ]
  },
  {
   "cell_type": "markdown",
   "id": "7864b94e",
   "metadata": {},
   "source": [
    "### Below are a few examples of evaluating arithmetic expressions in Python\n",
    "\n"
   ]
  },
  {
   "cell_type": "code",
   "execution_count": 27,
   "id": "f9d94809",
   "metadata": {},
   "outputs": [
    {
     "data": {
      "text/plain": [
       "17"
      ]
     },
     "execution_count": 27,
     "metadata": {},
     "output_type": "execute_result"
    }
   ],
   "source": [
    "#this is a simple arithmetic expression to multiply then add integers\n",
    "\n",
    "answer = (3* 4) + 5\n",
    "result"
   ]
  },
  {
   "cell_type": "code",
   "execution_count": 28,
   "id": "c959b473",
   "metadata": {},
   "outputs": [
    {
     "data": {
      "text/plain": [
       "3.3333333333333335"
      ]
     },
     "execution_count": 28,
     "metadata": {},
     "output_type": "execute_result"
    }
   ],
   "source": [
    "#This will convert 200 minutes to hours by diving by 60\n",
    "mintohours= 200/60\n",
    "mintohours"
   ]
  },
  {
   "cell_type": "markdown",
   "id": "61e192ee",
   "metadata": {},
   "source": [
    "## Author\n",
    "\n",
    "Sam Boesen"
   ]
  },
  {
   "cell_type": "code",
   "execution_count": null,
   "id": "f006ed04",
   "metadata": {},
   "outputs": [],
   "source": []
  }
 ],
 "metadata": {
  "kernelspec": {
   "display_name": "Python 3 (ipykernel)",
   "language": "python",
   "name": "python3"
  },
  "language_info": {
   "codemirror_mode": {
    "name": "ipython",
    "version": 3
   },
   "file_extension": ".py",
   "mimetype": "text/x-python",
   "name": "python",
   "nbconvert_exporter": "python",
   "pygments_lexer": "ipython3",
   "version": "3.11.7"
  }
 },
 "nbformat": 4,
 "nbformat_minor": 5
}
